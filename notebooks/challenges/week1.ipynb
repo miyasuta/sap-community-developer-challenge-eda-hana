{
 "cells": [
  {
   "cell_type": "markdown",
   "id": "51185e33-47ce-455b-b392-531cbf1b93fa",
   "metadata": {},
   "source": [
    "## Welcome to Week 1"
   ]
  },
  {
   "cell_type": "markdown",
   "id": "8fe13522-e219-417d-915f-93612d450b40",
   "metadata": {},
   "source": [
    "### Check a version of Python\n",
    "\n",
    "The version of Python should be between 3.7 and 3.10 inclusive."
   ]
  },
  {
   "cell_type": "code",
   "execution_count": 1,
   "id": "58f7ef2a-676e-4ef8-aa63-04dbdf8d7b0c",
   "metadata": {},
   "outputs": [
    {
     "name": "stdout",
     "output_type": "stream",
     "text": [
      "Python 3.10.10\n"
     ]
    }
   ],
   "source": [
    "!python -V"
   ]
  },
  {
   "cell_type": "markdown",
   "id": "7fb31a18-42cd-4929-9e33-ac6c2713ae36",
   "metadata": {},
   "source": [
    "### Check required packages\n",
    "\n",
    "The version of the package `hana_ml` should be at minimum 2.15"
   ]
  },
  {
   "cell_type": "code",
   "execution_count": 2,
   "id": "bc49d450-e627-4c08-9343-1c158e33305c",
   "metadata": {},
   "outputs": [
    {
     "name": "stderr",
     "output_type": "stream",
     "text": [
      "ModuleNotFoundError: No module named 'shapely'\n"
     ]
    },
    {
     "name": "stdout",
     "output_type": "stream",
     "text": [
      "The package version:  2.15.23021701\n"
     ]
    }
   ],
   "source": [
    "import hana_ml\n",
    "print(\"The package version: \", hana_ml.__version__)"
   ]
  },
  {
   "cell_type": "markdown",
   "id": "32f61769-8a9b-4cf6-97ff-f9920486fa13",
   "metadata": {},
   "source": [
    "### Import required packages\n",
    "\n",
    "There should be no error messages after the execution of the cell below"
   ]
  },
  {
   "cell_type": "code",
   "execution_count": 4,
   "id": "524e1912-75f4-4914-83b1-f4dbcfdb27f4",
   "metadata": {},
   "outputs": [],
   "source": [
    "from hana_ml import dataframe as hdf"
   ]
  },
  {
   "cell_type": "markdown",
   "id": "d10707dd-87c9-4012-835b-c3b07260ed4d",
   "metadata": {},
   "source": [
    "### Connect to SAP HANA database instance with a database user\n",
    "\n",
    "If the connection is successful, then you should see the version of the SAP HANA database instance your user is connected to.\n",
    "\n",
    "Please note that the command used in this cell requires a user key `DevChallenger` created in the SAP HANA Client's user store on your client.\n",
    "\n",
    "If the user key you have created is different than `DevChallenger`, then replace the **`userkey`** value in the command with your value."
   ]
  },
  {
   "cell_type": "code",
   "execution_count": 5,
   "id": "675fa598-247a-4854-a150-110d3f93d597",
   "metadata": {},
   "outputs": [
    {
     "ename": "Error",
     "evalue": "(-10709, 'Connection failed (RTE:[300010] Cannot create SSL context: Error in api.SSL_CTX_set_default_pse_by_name C:\\\\Users\\\\mio-f\\\\CommonCryptoLib\\\\sapcli.pse - SSL error [4129]: Unknown error, General error: 0x00001021 | SAPCRYPTOLIB | SSL_CTX_set_default_pse_by_name\\nSAPCRYPTO API error\\nThe PSE file does not exist.\\n0xa1d50108 | TOKEN_TOKPSE | SSL_CTX_set_default_pse_by_name\\nToken application not existing\\nCannot open PSE (PSE=C:\\\\Users\\\\mio-f\\\\CommonCryptoLib\\\\sapcli.pse, SECUDIR=C:\\\\Users\\\\mio-f\\\\CommonCryptoLib, user= mio-f mio-f)\\n0xa1d50108 | TOKEN_TOKPSE | sec_SSL_CTX_set_asc\\nToken application not existing\\n (ErrCode: 4129) (0.0.0.0:51405 -> 118869d7-da16-4d93-b1e2-42bd39ed12da.hana.trial-us10.hanacloud.ondemand.com:443))')",
     "output_type": "error",
     "traceback": [
      "\u001b[1;31m---------------------------------------------------------------------------\u001b[0m",
      "\u001b[1;31mError\u001b[0m                                     Traceback (most recent call last)",
      "Cell \u001b[1;32mIn[5], line 1\u001b[0m\n\u001b[1;32m----> 1\u001b[0m myconn\u001b[38;5;241m=\u001b[39m\u001b[43mhdf\u001b[49m\u001b[38;5;241;43m.\u001b[39;49m\u001b[43mConnectionContext\u001b[49m\u001b[43m(\u001b[49m\u001b[43muserkey\u001b[49m\u001b[38;5;241;43m=\u001b[39;49m\u001b[38;5;124;43m'\u001b[39;49m\u001b[38;5;124;43mDevChallenger\u001b[39;49m\u001b[38;5;124;43m'\u001b[39;49m\u001b[43m)\u001b[49m\n\u001b[0;32m      2\u001b[0m \u001b[38;5;28mprint\u001b[39m(\u001b[38;5;124m\"\u001b[39m\u001b[38;5;124mSAP HANA DB version: \u001b[39m\u001b[38;5;124m\"\u001b[39m, myconn\u001b[38;5;241m.\u001b[39mhana_version())\n",
      "File \u001b[1;32mD:\\programs\\Python\\Python310\\lib\\site-packages\\hana_ml\\dataframe.py:189\u001b[0m, in \u001b[0;36mConnectionContext.__init__\u001b[1;34m(self, address, port, user, password, autocommit, packetsize, userkey, spatialtypes, encrypt, sslValidateCertificate, pyodbc_connection, abap_sql, **properties)\u001b[0m\n\u001b[0;32m    187\u001b[0m     \u001b[38;5;28mself\u001b[39m\u001b[38;5;241m.\u001b[39mconnection \u001b[38;5;241m=\u001b[39m pyodbc\u001b[38;5;241m.\u001b[39mconnect(pyodbc_connection)\n\u001b[0;32m    188\u001b[0m \u001b[38;5;28;01melse\u001b[39;00m:\n\u001b[1;32m--> 189\u001b[0m     \u001b[38;5;28mself\u001b[39m\u001b[38;5;241m.\u001b[39mconnection \u001b[38;5;241m=\u001b[39m dbapi\u001b[38;5;241m.\u001b[39mconnect(\n\u001b[0;32m    190\u001b[0m         address,\n\u001b[0;32m    191\u001b[0m         port,\n\u001b[0;32m    192\u001b[0m         user,\n\u001b[0;32m    193\u001b[0m         password,\n\u001b[0;32m    194\u001b[0m         autocommit\u001b[38;5;241m=\u001b[39mautocommit,\n\u001b[0;32m    195\u001b[0m         packetsize\u001b[38;5;241m=\u001b[39mpacketsize,\n\u001b[0;32m    196\u001b[0m         userkey\u001b[38;5;241m=\u001b[39muserkey,\n\u001b[0;32m    197\u001b[0m         spatialtypes\u001b[38;5;241m=\u001b[39mspatialtypes,\n\u001b[0;32m    198\u001b[0m         encrypt\u001b[38;5;241m=\u001b[39mencrypt,\n\u001b[0;32m    199\u001b[0m         sslValidateCertificate\u001b[38;5;241m=\u001b[39msslValidateCertificate,\n\u001b[0;32m    200\u001b[0m         \u001b[38;5;241m*\u001b[39m\u001b[38;5;241m*\u001b[39mproperties)\n\u001b[0;32m    201\u001b[0m \u001b[38;5;28mself\u001b[39m\u001b[38;5;241m.\u001b[39m_pal_check_passed \u001b[38;5;241m=\u001b[39m \u001b[38;5;28;01mFalse\u001b[39;00m\n\u001b[0;32m    202\u001b[0m \u001b[38;5;28mself\u001b[39m\u001b[38;5;241m.\u001b[39msql_tracer \u001b[38;5;241m=\u001b[39m SqlTrace() \u001b[38;5;66;03m# SQLTRACE\u001b[39;00m\n",
      "\u001b[1;31mError\u001b[0m: (-10709, 'Connection failed (RTE:[300010] Cannot create SSL context: Error in api.SSL_CTX_set_default_pse_by_name C:\\\\Users\\\\mio-f\\\\CommonCryptoLib\\\\sapcli.pse - SSL error [4129]: Unknown error, General error: 0x00001021 | SAPCRYPTOLIB | SSL_CTX_set_default_pse_by_name\\nSAPCRYPTO API error\\nThe PSE file does not exist.\\n0xa1d50108 | TOKEN_TOKPSE | SSL_CTX_set_default_pse_by_name\\nToken application not existing\\nCannot open PSE (PSE=C:\\\\Users\\\\mio-f\\\\CommonCryptoLib\\\\sapcli.pse, SECUDIR=C:\\\\Users\\\\mio-f\\\\CommonCryptoLib, user= mio-f mio-f)\\n0xa1d50108 | TOKEN_TOKPSE | sec_SSL_CTX_set_asc\\nToken application not existing\\n (ErrCode: 4129) (0.0.0.0:51405 -> 118869d7-da16-4d93-b1e2-42bd39ed12da.hana.trial-us10.hanacloud.ondemand.com:443))')"
     ]
    }
   ],
   "source": [
    "myconn=hdf.ConnectionContext(userkey='DevChallenger')\n",
    "print(\"SAP HANA DB version: \", myconn.hana_version())"
   ]
  },
  {
   "cell_type": "markdown",
   "id": "a8e4ec49-86d4-42e7-b403-5083c22f4d1d",
   "metadata": {},
   "source": [
    "### Check the time on the server.\n",
    "\n",
    "You should get the output of the time stamp of the current time on the SAP HANA database server, like\n",
    "```\n",
    "2023-03-06 16:21:33.660000\n",
    "```"
   ]
  },
  {
   "cell_type": "code",
   "execution_count": null,
   "id": "f71a0f00-1428-4d01-92ab-65b90dc7f6fe",
   "metadata": {},
   "outputs": [],
   "source": [
    "print(myconn.sql(\"SELECT NOW() FROM DUMMY\").collect().CURRENT_TIMESTAMP[0])"
   ]
  },
  {
   "cell_type": "code",
   "execution_count": null,
   "id": "5e8916a1-6265-41bc-9e34-90756238d64e",
   "metadata": {},
   "outputs": [],
   "source": []
  }
 ],
 "metadata": {
  "kernelspec": {
   "display_name": "Python 3 (ipykernel)",
   "language": "python",
   "name": "python3"
  },
  "language_info": {
   "codemirror_mode": {
    "name": "ipython",
    "version": 3
   },
   "file_extension": ".py",
   "mimetype": "text/x-python",
   "name": "python",
   "nbconvert_exporter": "python",
   "pygments_lexer": "ipython3",
   "version": "3.10.10"
  }
 },
 "nbformat": 4,
 "nbformat_minor": 5
}
