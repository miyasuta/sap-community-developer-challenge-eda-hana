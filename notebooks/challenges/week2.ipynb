{
 "cells": [
  {
   "cell_type": "markdown",
   "id": "f6925517-e046-44bc-9cbf-85a18a5f9b89",
   "metadata": {},
   "source": [
    "This is a notebook for the **Week 2 of the Developer Challenge: https://blogs.sap.com/2023/03/08/sap-community-developer-challenge-eda-with-sap-hana-and-python/**\n",
    "\n",
    "Some code might be incomplete or incorrect. It is your task to fix it and execute the whole notebook receiving correct results.\n",
    "\n",
    "Submit the link to your solution: https://groups.community.sap.com/t5/application-development/submissions-for-quot-eda-with-sap-hana-quot-developer-challenge/m-p/224446/highlight/true#M1129"
   ]
  },
  {
   "cell_type": "markdown",
   "id": "fa070ec3-31f9-4768-b6a6-5ac788fd53bc",
   "metadata": {},
   "source": [
    "## Initialize the notebook\n",
    "\n",
    "Import required packages"
   ]
  },
  {
   "cell_type": "code",
   "execution_count": null,
   "id": "2beafea6-10d2-4394-93fa-e71090b1f4e5",
   "metadata": {},
   "outputs": [],
   "source": [
    "from hana_ml import dataframe as hdf\n",
    "import pandas as pd"
   ]
  },
  {
   "cell_type": "markdown",
   "id": "6bab666a-22f0-43c0-aee5-24b614802946",
   "metadata": {},
   "source": [
    "Connect to SAP HANA database instance with a database user, same as during Week 1!"
   ]
  },
  {
   "cell_type": "code",
   "execution_count": null,
   "id": "2bf4389a-b734-47a5-9fec-8ffbe84e3aa3",
   "metadata": {},
   "outputs": [],
   "source": [
    "myconn=hdf.ConnectionContext(userkey='DevChallenger')\n",
    "print(\"SAP HANA DB version: \", myconn.hana_version())"
   ]
  },
  {
   "cell_type": "code",
   "execution_count": null,
   "id": "7e444bbe-4d3d-4b1a-8167-5ed884aa1abb",
   "metadata": {},
   "outputs": [],
   "source": [
    "print(myconn.sql(\"SELECT NOW() FROM DUMMY\").collect().CURRENT_TIMESTAMP[0])"
   ]
  },
  {
   "cell_type": "markdown",
   "id": "b8e53d9f-2c10-44a0-a1ad-e1253a8b7b32",
   "metadata": {},
   "source": [
    "# Working with SAP HANA tables in a Python client \n",
    "\n",
    "Below you will find two approaches creating tables, populating them with data and retrieving this data from Python:\n",
    "1. Compatible with Python standard proposal PEP 249 using SQL\n",
    "2. Using HANA DataFrame abstract from `hana_ml`"
   ]
  },
  {
   "cell_type": "markdown",
   "id": "01b97cc2-e76f-4e7e-8e0b-d480b77a34a5",
   "metadata": {},
   "source": [
    "## 1. Approach compatible with Python proposal PEP 249 using SQL\n",
    "\n",
    "References:\n",
    "1. https://peps.python.org/pep-0249/#connection-objects\n",
    "2. https://help.sap.com/docs/SAP_HANA_CLIENT/f1b440ded6144a54ada97ff95dac7adf/3b5ebe388c1040ec83617c9e511ecda5.html?version=2.15&locale=en-US"
   ]
  },
  {
   "cell_type": "markdown",
   "id": "93623276-8f30-4390-976e-fba68a8a0c0c",
   "metadata": {},
   "source": [
    "`ConnectionContext` in `hana-ml` represents a connection to a SAP HANA database instance.\n",
    "\n",
    "It has [an attribute `connection`](https://help.sap.com/doc/cd94b08fe2e041c2ba778374572ddba9/2022_4_QRC/en-US/hana_ml.dataframe.html#hana_ml.dataframe.ConnectionContext) which is the underlying dbapi connection from [SAP HANA Client's Python driver `hdbcli`](https://help.sap.com/docs/SAP_HANA_CLIENT/f1b440ded6144a54ada97ff95dac7adf/d12c86af7cb442d1b9f8520e2aba7758.html?version=2.15&locale=en-US).\n",
    "\n",
    "Let's open a [cursor](https://help.sap.com/docs/SAP_HANA_CLIENT/f1b440ded6144a54ada97ff95dac7adf/d0c010fa5c4e4e4cba7b791cd1c9479b.html?version=2.15&locale=en-US) called `mycursor` to be used for the fetch operations."
   ]
  },
  {
   "cell_type": "code",
   "execution_count": null,
   "id": "04200766-d0ba-4868-a4a1-84dd60e52253",
   "metadata": {},
   "outputs": [],
   "source": [
    "mycursor = myconn.connection.cursor()"
   ]
  },
  {
   "cell_type": "markdown",
   "id": "12618eb5-0ad1-4f6e-90a5-e4d1af2386e3",
   "metadata": {},
   "source": [
    "[Execute an SQL statement](https://help.sap.com/docs/SAP_HANA_CLIENT/f1b440ded6144a54ada97ff95dac7adf/3b89755ceec042e5919313b40acf8794.html?version=2.15&locale=en-US) to create a table `SEASONS` in the database."
   ]
  },
  {
   "cell_type": "code",
   "execution_count": null,
   "id": "13f4879d-bf45-483d-bff8-b78e65aaf1ef",
   "metadata": {},
   "outputs": [],
   "source": [
    "#mycursor.execute('DROP TABLE \"SEASONS\"'); #uncomment to drop the table, if already exists\n",
    "\n",
    "mycursor.execute('''\n",
    "CREATE TABLE \"SEASONS\" (\n",
    "  \"ID\" INT PRIMARY KEY, \n",
    "  \"DESC\" VARCHAR(12)\n",
    ")\n",
    "''');"
   ]
  },
  {
   "cell_type": "markdown",
   "id": "5b8f9deb-d65e-4db3-8831-89c86cacb838",
   "metadata": {},
   "source": [
    "Use [SQL statement to insert multiple records](https://help.sap.com/docs/SAP_HANA_CLIENT/f1b440ded6144a54ada97ff95dac7adf/15e46b843c8045ec854d6375790cd504.html?version=2.15&locale=en-US) into the table `SEASONS`.\n",
    "\n",
    "You should get the following result after execurting the cell below:\n",
    "```\n",
    "Records inserted:  4\n",
    "```"
   ]
  },
  {
   "cell_type": "code",
   "execution_count": null,
   "id": "379fb9a1-5185-474b-bf08-76e1d641e9b4",
   "metadata": {},
   "outputs": [],
   "source": [
    "mycursor.execute('TRUNCATE TABLE \"SEASONS\"');\n",
    "\n",
    "records_inserted=mycursor.executemany(operation='INSERT INTO \"SEASONS\" (\"ID\", \"DESC\") VALUES (?, ?)',\n",
    "                                     list_of_parameters=\n",
    "                                      ((1, \"WINTER\"),\n",
    "                                      (2, \"SPRING\"),\n",
    "                                      (2, \"SUMMER\"),\n",
    "                                      (4, \"FALL\"))\n",
    "                                     )\n",
    "print(\"Records inserted: \", sum(records_inserted))"
   ]
  },
  {
   "cell_type": "markdown",
   "id": "ac4087fb-37c3-4981-9a3f-15ffb7569869",
   "metadata": {},
   "source": [
    "Use SQL statement to fetch all records from the table\n",
    "\n",
    "You should get:\n",
    "```\n",
    "the first record (1, 'WINTER')\n",
    "the second record (2, 'SPRING')\n",
    "the rest of records [(3, 'SUMMER'), (4, 'FALL')]\n",
    "```"
   ]
  },
  {
   "cell_type": "code",
   "execution_count": null,
   "id": "324bc792-b18e-441a-bc63-776e39486473",
   "metadata": {},
   "outputs": [],
   "source": [
    "mycursor.execute('SELECT * FROM \"SEASONS\"')\n",
    "#Get the first record\n",
    "result=mycursor.fetchone()\n",
    "print(\"the first record\", result)\n",
    "\n",
    "#Get the second record\n",
    "result=mycursor.fetchtwo()\n",
    "print(\"the second record\", result)\n",
    "\n",
    "#Get the rest of records\n",
    "result=mycursor.fetchall()\n",
    "print(\"the rest of records\", result)"
   ]
  },
  {
   "cell_type": "markdown",
   "id": "d30ef46c-85ba-4ff7-8601-f4b281aff2ca",
   "metadata": {},
   "source": [
    "### Let's check tables created so far in the current database schema."
   ]
  },
  {
   "cell_type": "code",
   "execution_count": null,
   "id": "8d6bc7db-e4c9-4ef5-abc1-60a86750a58f",
   "metadata": {},
   "outputs": [],
   "source": [
    "print(f\"Current database schema: {myconn.get_current_schema()}\")"
   ]
  },
  {
   "cell_type": "code",
   "execution_count": null,
   "id": "0af45c3e-ee72-442f-b82b-09e8e5cbffb4",
   "metadata": {},
   "outputs": [],
   "source": [
    "mycursor.execute(f'''\n",
    "SELECT TABLE_NAME\n",
    "FROM M_TABLES\n",
    "WHERE SCHEMA_NAME='{myconn.get_current_schema()}'\n",
    "''')\n",
    "\n",
    "#Get all records\n",
    "result=mycursor.fetchall()\n",
    "print(f\"{len(result)} table(s) in the schema {myconn.get_current_schema()}: {[x[0] for x in result]}\")"
   ]
  },
  {
   "cell_type": "markdown",
   "id": "9341740f-c224-49df-9523-722e4c468c71",
   "metadata": {},
   "source": [
    "# 2. `hana-ml` approach using interoperability between Pandas DataFrames and HANA DataFrames\n",
    "\n",
    "References:\n",
    "1. https://help.sap.com/doc/cd94b08fe2e041c2ba778374572ddba9/2022_4_QRC/en-US/hana_ml.html#sap-hana-dataframe\n",
    "1. https://pandas.pydata.org/docs/reference/api/pandas.DataFrame.html"
   ]
  },
  {
   "cell_type": "markdown",
   "id": "74856c9d-110d-4e22-b2a0-c3a8f9440486",
   "metadata": {},
   "source": [
    "Create a table `MONTHS` in the current database schema.\n",
    "\n",
    "But this time you should use [`create_table()` method](https://help.sap.com/doc/cd94b08fe2e041c2ba778374572ddba9/2022_4_QRC/en-US/hana_ml.dataframe.html#hana_ml.dataframe.ConnectionContext.create_table) from `hana_ml`."
   ]
  },
  {
   "cell_type": "code",
   "execution_count": null,
   "id": "9b5363b7-c015-4ead-963f-b6aff1a96ede",
   "metadata": {},
   "outputs": [],
   "source": [
    "# myconn.drop_table(\"MONTHS\")\n",
    "myconn.create_table(\"MONTHS\", table_structure={\"ID\":\"INT\", \"DESC\":\"VARCHAR(10)\"})"
   ]
  },
  {
   "attachments": {
    "71e117be-596d-4be5-8832-83e4b50ee61d.png": {
     "image/png": "[encoded data removed]"
    }
   },
   "cell_type": "markdown",
   "id": "63b52694-db0f-41c5-abbe-034034e5019a",
   "metadata": {
    "tags": []
   },
   "source": [
    "Check tables created so far in the current database schema.\n",
    "\n",
    "But this time you should use [`get_tables()` method](https://help.sap.com/doc/cd94b08fe2e041c2ba778374572ddba9/2022_4_QRC/en-US/hana_ml.dataframe.html#hana_ml.dataframe.ConnectionContext.get_tables) from `hana_ml` to receive the output similar to:\n",
    "\n",
    "![image.png](attachment:71e117be-596d-4be5-8832-83e4b50ee61d.png)"
   ]
  },
  {
   "cell_type": "code",
   "execution_count": null,
   "id": "85ecb5cd-c17a-456e-98c9-052faeb79c82",
   "metadata": {},
   "outputs": [],
   "source": [
    "myconn.get_tables"
   ]
  },
  {
   "cell_type": "markdown",
   "id": "eb360fce-7097-4242-a8a5-9b99f36736cd",
   "metadata": {},
   "source": [
    "Create [Pandas DataFrame](https://pandas.pydata.org/docs/getting_started/intro_tutorials/01_table_oriented.html#what-kind-of-data-does-pandas-handle) with data describing calendar months. \n",
    "\n",
    "The name of the object is `months_df`, and it is quite common to use `_df` postfix in a name of a variable storing Pandas DataFrame."
   ]
  },
  {
   "cell_type": "code",
   "execution_count": null,
   "id": "6bce716e-3391-40ad-bf31-439d32eb2f38",
   "metadata": {},
   "outputs": [],
   "source": [
    "months_df=pd.DataFrame(\n",
    "    {\"ID\": range(1,13),\n",
    "     \"DESC\": ['JAN', 'FEB', 'MAR', 'APR', 'MAY', 'JUN', 'JUL', 'AUG', 'SEP', 'OCT', 'NOV', 'DEC']\n",
    "    })"
   ]
  },
  {
   "cell_type": "markdown",
   "id": "c33431e1-c37e-4e5e-b88b-351bbd6f3924",
   "metadata": {},
   "source": [
    "Display data from Pandas DataFrame `months_df`. \n",
    "> For the clarity of the output `.style.hide(axis='index')` can be added to remove the Pandas index from the output."
   ]
  },
  {
   "cell_type": "code",
   "execution_count": null,
   "id": "5f167180-fe6c-4406-98c5-6e38cc0398cd",
   "metadata": {},
   "outputs": [],
   "source": [
    "display(months_df)\n",
    "\n",
    "# compare the output with a hidden Pandas index by removing a comment in the line below: \n",
    "#display(months_df.style.hide(axis='index'))"
   ]
  },
  {
   "cell_type": "markdown",
   "id": "1b04f61b-e487-4f45-ac82-117c05dac1da",
   "metadata": {},
   "source": [
    "## Create HANA DataFrame from Pandas DataFrame.\n",
    "\n",
    "`hana_ml` provides a [method `create_dataframe_from_pandas`](https://help.sap.com/doc/cd94b08fe2e041c2ba778374572ddba9/2022_4_QRC/en-US/hana_ml.dataframe.html#hana_ml.dataframe.create_dataframe_from_pandas) to store data from the Pandas DataFrame in a table in SAP HANA database. A table is created, if needed.\n",
    "\n",
    "The name of the object is `months_hdf`, and it is quite common to use `_hdf` postfix in a name of a variable storing HANA DataFrame."
   ]
  },
  {
   "cell_type": "code",
   "execution_count": null,
   "id": "4881ef24-292d-4367-946c-1bb63a5d6391",
   "metadata": {},
   "outputs": [],
   "source": [
    "months_hdf = hdf.create_dataframe_from_pandas(connection_context=ourconn,\n",
    "                                      pandas_df=months_df,\n",
    "                                      table_name='MONTHS',\n",
    "                                      primary_key='ID',\n",
    "                                      force=True\n",
    "                                     )"
   ]
  },
  {
   "cell_type": "markdown",
   "id": "5c59285e-3d15-4688-bff8-fc76c1844457",
   "metadata": {},
   "source": [
    "The type of a `months_hdf` object returned from the `create_dataframe_from_pandas` method is a HANA DataFrame (`hana_ml.dataframe.DataFrame`)..."
   ]
  },
  {
   "cell_type": "code",
   "execution_count": null,
   "id": "7297fe55-d374-41ea-a762-ddb41f993a37",
   "metadata": {},
   "outputs": [],
   "source": [
    "type(months_hdf)"
   ]
  },
  {
   "cell_type": "markdown",
   "id": "aab54a8b-2e37-4253-8342-f2b6512609b5",
   "metadata": {},
   "source": [
    "\n",
    "HANA DataFrames do not store any data on a client side in Python. Each HANA DataFrame only stores a connection contex and a [`select_statement` attribute](https://help.sap.com/doc/cd94b08fe2e041c2ba778374572ddba9/2022_4_QRC/en-US/hana_ml.dataframe.html#hana_ml.dataframe.DataFrame) to be used to retrieve data from the SAP HANA database."
   ]
  },
  {
   "cell_type": "code",
   "execution_count": null,
   "id": "f317e446-cb9c-411b-90a9-48fc9b2fcb39",
   "metadata": {},
   "outputs": [],
   "source": [
    "print(months_hdf.select_statement)"
   ]
  },
  {
   "cell_type": "markdown",
   "id": "838a3f1f-2cbc-4875-9bcd-3bf442992176",
   "metadata": {},
   "source": [
    "You can, obviously, use that SELECT statement **to retrieve data using SQL** as you've seen in the first approach..."
   ]
  },
  {
   "cell_type": "code",
   "execution_count": null,
   "id": "0f569052-70bf-4adb-b0e9-d808f4cbc68c",
   "metadata": {},
   "outputs": [],
   "source": [
    "mycursor.execute(months_hdf.select_statement)\n",
    "\n",
    "#Get all records\n",
    "result=mycursor.fetcheverything()\n",
    "\n",
    "#Display returned records\n",
    "print(f\"All {len(result)} records: {result}\")"
   ]
  },
  {
   "cell_type": "markdown",
   "id": "b5079536-a4d1-444c-a053-72d66aad56f8",
   "metadata": {},
   "source": [
    "...but **the proper way to retrieve data** from a HANA table is by using a [`collect` method](https://help.sap.com/doc/cd94b08fe2e041c2ba778374572ddba9/2022_4_QRC/en-US/hana_ml.dataframe.html#hana_ml.dataframe.DataFrame.collect), which returns selected data in the form of the Pandas DataFrame."
   ]
  },
  {
   "cell_type": "code",
   "execution_count": null,
   "id": "85d6e7f4-573b-4228-9cb8-e6a39b174c02",
   "metadata": {},
   "outputs": [],
   "source": [
    "months_hdf.collect()"
   ]
  },
  {
   "cell_type": "markdown",
   "id": "266b06b4-573e-438a-9c36-2069a54bd309",
   "metadata": {},
   "source": [
    "You can see this method returns an instance of a Pandas DataFrame (`pandas.core.frame.DataFrame`)."
   ]
  },
  {
   "cell_type": "code",
   "execution_count": null,
   "id": "deb918e1-75d2-41b5-a5db-f0b958b4281d",
   "metadata": {},
   "outputs": [],
   "source": [
    "type(months_df.collect())"
   ]
  },
  {
   "cell_type": "markdown",
   "id": "90c0b225-a74c-4269-afc7-6175d761b9fd",
   "metadata": {},
   "source": [
    "## Using `hana-ml` approach to load data from a CSV file (or any other file Pandas can read)\n",
    "\n",
    "In most of the case we do not want to manually type data to be inserted, but have this data already stored in a file, like CSV."
   ]
  },
  {
   "cell_type": "code",
   "execution_count": null,
   "id": "af83ed8e-d450-4d6c-ae2a-09a19651aef6",
   "metadata": {},
   "outputs": [],
   "source": [
    "url=\"https://raw.githubusercontent.com/SAP-samples/hana-ml-samples/main/Python-API/pal/datasets/bike.csv\"\n",
    "bikes_df = pd.io.parsers.read_csv(url)"
   ]
  },
  {
   "cell_type": "markdown",
   "id": "dffc31d4-247e-481d-a9f0-c80380a4b244",
   "metadata": {},
   "source": [
    "Display the content of the Pandas DataFrame `bikes_df` with data from the CSV file."
   ]
  },
  {
   "cell_type": "code",
   "execution_count": null,
   "id": "07561e90-b593-4b03-9c8a-647bf73f4523",
   "metadata": {},
   "outputs": [],
   "source": [
    "display(bikes_df)"
   ]
  },
  {
   "cell_type": "markdown",
   "id": "f766ab1a-7877-433a-82c1-bf40d48bf0db",
   "metadata": {},
   "source": [
    "Now persist this data in HANA table database using the same [`create_dataframe_from_pandas` method](https://help.sap.com/doc/cd94b08fe2e041c2ba778374572ddba9/2022_4_QRC/en-US/hana_ml.dataframe.html#hana_ml.dataframe.create_dataframe_from_pandas) from `hana_ml` as before."
   ]
  },
  {
   "cell_type": "code",
   "execution_count": null,
   "id": "2157e623-b9bb-4574-a28c-15ccd4dceaff",
   "metadata": {},
   "outputs": [],
   "source": [
    "bikes_hdf = create_dataframe_from_pandas(connection_context=myconn,\n",
    "                                      pandas_df=bikes_df,\n",
    "                                      table_name='BIKES',\n",
    "                                      primary_key='days_since_2011',\n",
    "                                      force=True\n",
    "                                     )"
   ]
  },
  {
   "cell_type": "markdown",
   "id": "57881c93-6ba9-469f-a937-aa57ca50811f",
   "metadata": {},
   "source": [
    "The type of a `bikes_hdf` object returned from the `create_dataframe_from_pandas` method is a HANA DataFrame..."
   ]
  },
  {
   "cell_type": "code",
   "execution_count": null,
   "id": "f626d2c1-4ad7-41a8-8acb-d4354864bb1b",
   "metadata": {},
   "outputs": [],
   "source": [
    "type(bikes_hdf)"
   ]
  },
  {
   "cell_type": "markdown",
   "id": "addc2581-074e-47f1-a2aa-730f7f91f206",
   "metadata": {},
   "source": [
    "...and a SELECT statement that supports this HANA DataFrame"
   ]
  },
  {
   "cell_type": "code",
   "execution_count": null,
   "id": "0362d4c9-4634-4991-ba78-5a14f9ff92aa",
   "metadata": {},
   "outputs": [],
   "source": [
    "print(bikes_hdf.select_statement())"
   ]
  },
  {
   "cell_type": "markdown",
   "id": "6450f8d5-e38b-47e1-b231-8a9dff0776c0",
   "metadata": {},
   "source": [
    "As stated above the `collect()` method returns a Pandas DataFrame, and therefore Pandas methods can be applied to it, like `head()` to output a few records..."
   ]
  },
  {
   "cell_type": "code",
   "execution_count": null,
   "id": "d000f49f-1969-45a1-86a1-7d93d0c59b0c",
   "metadata": {},
   "outputs": [],
   "source": [
    "bikes_hdf.collect().head(n=10)"
   ]
  },
  {
   "cell_type": "markdown",
   "id": "43b4ebb4-8e3d-43ae-a26d-6f098aa86270",
   "metadata": {},
   "source": [
    "...or `[\"season\"].unique().tolist()` to output [unique values](https://pandas.pydata.org/docs/reference/api/pandas.Series.unique.html#pandas.Series.unique) only from the `season` column [as a list](https://pandas.pydata.org/docs/reference/api/pandas.Series.tolist.html#pandas.Series.tolist)."
   ]
  },
  {
   "cell_type": "code",
   "execution_count": null,
   "id": "a357f4be-1c6e-4f69-adcd-8a5ae1c20d5c",
   "metadata": {},
   "outputs": [],
   "source": [
    "bikes_hdf.collect()[\"season\"].unique().tolist()"
   ]
  },
  {
   "cell_type": "markdown",
   "id": "b5364db7-5e92-4fc5-83e9-ad63e505bc77",
   "metadata": {},
   "source": [
    "The problem with the above approach applying Pandas' data manipulation methods **after** `collect()` -- as in the two cells above -- is that they require **complete** set of data be transferred from a table in SAP HANA database to Python client before data manipulation is applied.\n",
    "\n",
    "Next week you will work on applying data manipulation **before** `collect()` is executed, so that methods are pushed down to be executed in the SAP HANA database and **only results** are returned to the client!\n",
    "\n",
    "### Stay tuned for the Week 3!"
   ]
  },
  {
   "cell_type": "code",
   "execution_count": null,
   "id": "20289a63-efb4-437b-a9a7-3debacdc7427",
   "metadata": {},
   "outputs": [],
   "source": []
  }
 ],
 "metadata": {
  "kernelspec": {
   "display_name": "Python 3 (ipykernel)",
   "language": "python",
   "name": "python3"
  },
  "language_info": {
   "codemirror_mode": {
    "name": "ipython",
    "version": 3
   },
   "file_extension": ".py",
   "mimetype": "text/x-python",
   "name": "python",
   "nbconvert_exporter": "python",
   "pygments_lexer": "ipython3",
   "version": "3.10.9"
  }
 },
 "nbformat": 4,
 "nbformat_minor": 5
}
